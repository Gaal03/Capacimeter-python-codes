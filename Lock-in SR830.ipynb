{
 "cells": [
  {
   "cell_type": "code",
   "execution_count": 1,
   "metadata": {},
   "outputs": [],
   "source": [
    "import visa\n",
    "import numpy as np\n",
    "import time\n",
    "import matplotlib.pyplot as plt\n",
    "import time\n",
    "import serial\n",
    "\n",
    "rm = visa.ResourceManager()"
   ]
  },
  {
   "cell_type": "code",
   "execution_count": 2,
   "metadata": {},
   "outputs": [],
   "source": [
    "#### Lock-in communication  ####\n",
    "\n",
    "def ask_lockin(cmd):\n",
    "    lok = serial.Serial(\"COM4\", baudrate=9600, parity=serial.PARITY_NONE, stopbits=serial.STOPBITS_ONE, bytesize=serial.EIGHTBITS, timeout=3)\n",
    "    lok.write(str.encode(cmd+'\\n'))\n",
    "    lok.flush()\n",
    "    value = lok.readline().strip()\n",
    "    value = value.decode('ascii')\n",
    "    lok.close()\n",
    "    if 'SNAP?' in cmd:\n",
    "        return value\n",
    "        #print(value)\n",
    "    else:\n",
    "        return"
   ]
  },
  {
   "cell_type": "code",
   "execution_count": 31,
   "metadata": {},
   "outputs": [],
   "source": [
    "### Manual Sense ###\n",
    "\n",
    "def Sensing():\n",
    "    ask_lockin('SENS26')\n",
    "    temp = ask_lockin('SNAP?9,3,4')\n",
    "    temp = temp.split(\",\")\n",
    "    V_out = float(temp[1])\n",
    "    if (V_out < 0.0005):\n",
    "        ask_lockin('SENS17')\n",
    "        return\n",
    "    elif (V_out >= 0.0005 and V_out < 0.001):\n",
    "        ask_lockin('SENS18')\n",
    "        return\n",
    "    elif (V_out >= 0.001 and V_out < 0.003):\n",
    "        ask_lockin('SENS19')\n",
    "        return\n",
    "    elif (V_out >= 0.003 and V_out < 0.008):\n",
    "        ask_lockin('SENS20')\n",
    "        return\n",
    "    elif (V_out >= 0.008 and V_out < 0.018):\n",
    "        ask_lockin('SENS21')\n",
    "        return\n",
    "    elif (V_out >= 0.018 and V_out < 0.048):\n",
    "        ask_lockin('SENS22')\n",
    "        return\n",
    "    elif (V_out >= 0.048 and V_out < 0.090):\n",
    "        ask_lockin('SENS23')\n",
    "        return\n",
    "    elif (V_out >= 0.090 and V_out < 0.190):\n",
    "        ask_lockin('SENS24')\n",
    "        return\n",
    "    elif (V_out >= 0.190 and V_out < 0.490):\n",
    "        ask_lockin('SENS25')\n",
    "        return\n",
    "    elif (V_out >= 0.490):\n",
    "        ask_lockin('SENS26')\n",
    "        return\n",
    "    print(V_out)"
   ]
  },
  {
   "cell_type": "code",
   "execution_count": 35,
   "metadata": {},
   "outputs": [
    {
     "name": "stdout",
     "output_type": "stream",
     "text": [
      "1000,0.0199968,0.018\n"
     ]
    }
   ],
   "source": [
    "### Manual Sensing Measurement Procedure ###\n",
    "\n",
    "ask_lockin('SLVL0.02')   ## Set the Lock-in voltage amplitude\n",
    "ask_lockin('FREQ1000')   ## Set the Lock-in frequency\n",
    "Sensing()                ## Calls the manual sensing function\n",
    "ask_lockin('REST')       ## Clear the measurement memory buffer\n",
    "ask_lockin('STRT')       ## Starts the measurement\n",
    "ask_lockin('SNAP?9,3,4') ## Reads the frequency, output voltage amplitude and phase\n",
    "measur = ask_lockin('SNAP?9,3,4') ## Reads the frequency, output voltage amplitude and phase\n",
    "print(measur)"
   ]
  },
  {
   "cell_type": "code",
   "execution_count": 11,
   "metadata": {
    "scrolled": false
   },
   "outputs": [
    {
     "name": "stdout",
     "output_type": "stream",
     "text": [
      "1000,0.997562,0.018\n"
     ]
    }
   ],
   "source": [
    "### Auto Gain Measurement Procedure ###\n",
    "\n",
    "ask_lockin('SLVL1')   ## Set the Lock-in voltage amplitude\n",
    "ask_lockin('FREQ1000')   ## Set the Lock-in frequency\n",
    "ask_lockin('AGAN')       ## Auto gain function whithin the lock-in !! WARNING !! It does not work for time constant bigger than 1 second\n",
    "ask_lockin('REST')       ## Clear the measurement memory buffer\n",
    "ask_lockin('STRT')       ## Starts the measurement\n",
    "measur = ask_lockin('SNAP?9,3,4') ## Reads the frequency, output voltage amplitude and phase\n",
    "print(measur)"
   ]
  }
 ],
 "metadata": {
  "kernelspec": {
   "display_name": "Python 3",
   "language": "python",
   "name": "python3"
  },
  "language_info": {
   "codemirror_mode": {
    "name": "ipython",
    "version": 3
   },
   "file_extension": ".py",
   "mimetype": "text/x-python",
   "name": "python",
   "nbconvert_exporter": "python",
   "pygments_lexer": "ipython3",
   "version": "3.7.4"
  }
 },
 "nbformat": 4,
 "nbformat_minor": 2
}
